{
  "nbformat": 4,
  "nbformat_minor": 0,
  "metadata": {
    "colab": {
      "provenance": []
    },
    "kernelspec": {
      "name": "python3",
      "display_name": "Python 3"
    },
    "language_info": {
      "name": "python"
    }
  },
  "cells": [
    {
      "cell_type": "markdown",
      "source": [
        "1. What is a RESTful API ?\n",
        " - A RESTful API (Representational State Transfer API) is a type of web service that follows the principles of REST (Representational State Transfer), an architectural style for designing networked applications. RESTful APIs allow communication between a client (such as a web browser or mobile app) and a server using standard HTTP methods.\n",
        "\n",
        "2. Explain the concept of API specification.\n",
        " - An API specification is a formal document or blueprint that defines how an API (Application Programming Interface) should behave. It describes the structure, functionality, and behavior of the API, providing guidelines for developers on how to interact with it.\n",
        "\n",
        "3. What is Flask, and why is it popular for building APIs ?\n",
        " - Flask is a micro web framework written in Python, designed for building web applications and RESTful APIs quickly and efficiently. It is lightweight, flexible, and easy to extend, making it a popular choice for developers who want to create APIs with minimal overhead.\n",
        "\n",
        "4. What is routing in Flask ?\n",
        " - Routing in Flask refers to the process of mapping URLs (Uniform Resource Locators) to specific functions that handle client requests. A route is associated with a particular URL pattern and determines what happens when that URL is accessed.\n",
        "\n",
        "5. How do you create a simple Flask application ?\n",
        " -\n",
        "6. What are HTTP methods used in RESTful APIs\n",
        " - In RESTful APIs, HTTP methods (verbs) define the type of operation to perform on a resource. Each method corresponds to a specific action, and RESTful APIs adhere to these methods to ensure consistent behavior.\n",
        "\n",
        "7. What is the purpose of the @app.route() decorator in Flask ?\n",
        " - The @app.route() decorator in Flask is used to define the URL route (endpoint) that triggers a specific function, known as a view function. It maps a URL path to a Python function, so when a user accesses that URL in the browser, the corresponding function is executed, and its return value is sent as the response.\n",
        "\n",
        "8. What is the difference between GET and POST HTTP methods ?\n",
        " - The GET and POST methods are the two most common HTTP methods used in web applications. They serve different purposes and behave differently in terms of data transmission, security, and caching.\n",
        "\n",
        "-  GET Method\n",
        "\n",
        "Requests data from the server without modifying it.\n",
        "\n",
        "Parameters are appended to the URL as query strings.\n",
        "\n",
        "Can be cached, bookmarked, and shared.\n",
        "\n",
        "-  POST Method\n",
        "\n",
        "Submits data to be processed by the server.\n",
        "\n",
        "Parameters are sent in the request body, not in the URL.\n",
        "\n",
        "Cannot be bookmarked or cached.\n",
        "\n",
        "Suitable for modifying server data.\n",
        "\n",
        "9. How do you handle errors in Flask APIs ?\n",
        " - In Flask, handling errors in APIs is essential for providing meaningful feedback to the client and ensuring that your application behaves predictably. Flask offers multiple ways to handle errors gracefully.\n",
        "\n",
        " - Using @app.errorhandler() Decorator\n",
        " - Using abort() to Trigger Errors\n",
        " - Handling Exceptions Using try-except Block\n",
        "\n",
        "10. How do you connect Flask to a SQL database ?\n",
        " - To connect a Flask application to a SQL database, the most common and efficient approach is to use SQLAlchemy, which is an Object-Relational Mapper (ORM) that allows interaction with a database using Python objects.\n",
        "\n",
        "11. What is the role of Flask-SQLAlchemy ?\n",
        " - Flask-SQLAlchemy is an extension that integrates SQLAlchemy (a powerful Object-Relational Mapper or ORM) with Flask, enabling you to interact with databases using Python objects and classes instead of writing raw SQL queries.\n",
        "\n",
        "12. What are Flask blueprints, and how are they useful ?\n",
        " - A Blueprint in Flask is a way to organize and structure a Flask application by grouping related routes, views, and functionality into reusable modules. Blueprints help manage large applications by splitting them into smaller, modular components.\n",
        "\n",
        "13. What is the purpose of Flask's request object\n",
        " - In Flask, the request object is an instance of the Request class that provides access to incoming HTTP request data. It allows you to retrieve and process information sent by a client (browser, mobile app, or API client) to the server.\n",
        "\n",
        "14.  How do you create a RESTful API endpoint using Flask ?\n",
        " - In Flask, the request object is an instance of the Request class that provides access to incoming HTTP request data. It allows you to retrieve and process information sent by a client (browser, mobile app, or API client) to the server.\n",
        "\n",
        "15. What is the purpose of Flask's jsonify() function ?\n",
        " - The jsonify() function in Flask is used to convert Python data structures (such as dictionaries, lists, or tuples) into JSON format and return a properly formatted HTTP response.\n",
        "\n",
        "16.  Explain Flask’s url_for() function.\n",
        " - The url_for() function in Flask is used to generate the URL for a given view function dynamically. It is particularly useful for creating links to routes within the application, ensuring that URLs are always generated correctly (even if the routing logic changes later).\n",
        "\n",
        "17. How does Flask handle static files (CSS, JavaScript, etc.)\n",
        " - Flask provides a simple and efficient way to serve static files like CSS, JavaScript, images, and fonts using its built-in static folder. This folder is where Flask looks for files that are intended to be publicly accessible via URLs.\n",
        "\n",
        "18. What is an API specification, and how does it help in building a Flask API ?\n",
        " - An API specification is a document or description that defines how an API behaves. It provides the details on how clients should interact with the API, including the available endpoints, HTTP methods, request parameters, response formats, authentication methods, error codes, and more.\n",
        "\n",
        "19.  What are HTTP status codes, and why are they important in a Flask API ?\n",
        " - HTTP status codes are three-digit numbers returned by the server to indicate the result of an HTTP request. They provide important information about the status of the requested resource, whether the request was successful, redirected, or encountered an error.\n",
        "\n",
        "20. How do you handle POST requests in Flask ?\n",
        " - In Flask, a POST request is used to send data to the server for creating or updating resources. You can handle POST requests in Flask by using the @app.route() decorator with the methods=['POST'] argument.\n",
        "\n",
        "21.  How would you secure a Flask API ?\n",
        " - Securing a Flask API is critical to protect sensitive data and ensure that only authorized users can access your application. Flask provides various ways to implement security, ranging from basic authentication to more advanced methods like OAuth. Here are several steps and techniques you can use to secure your Flask API\n",
        "\n",
        "22. What is the significance of the Flask-RESTful extension ?\n",
        " - Flask-RESTful is an extension for Flask that simplifies the creation of RESTful APIs. REST (Representational State Transfer) is an architectural style for designing networked applications, and a RESTful API provides a way for applications to communicate over HTTP using standard methods like GET, POST, PUT, DELETE, etc.\n",
        "\n",
        " - Flask-RESTful builds on top of Flask and provides additional tools, structures, and conventions to help streamline the development of RESTful APIs, making it easier to create APIs that are scalable, maintainable, and well-organized.\n",
        "\n",
        "23. What is the role of Flask’s session object ?\n",
        " - The session object in Flask is used to store data that is specific to a user during a session, typically across multiple requests. It allows you to persist data across different HTTP requests from the same user, such as login information, preferences, or any other user-specific data. Unlike cookies, which are sent to the client with each request, the session data is stored server-side and only a session identifier is sent to the client.       \n",
        "\n",
        "  "
      ],
      "metadata": {
        "id": "yeNcb7aAFTda"
      }
    },
    {
      "cell_type": "code",
      "source": [
        "pip install flask"
      ],
      "metadata": {
        "colab": {
          "base_uri": "https://localhost:8080/"
        },
        "id": "M96qGU4rkf-4",
        "outputId": "e6b4f211-35d5-4858-e467-13002db6af94"
      },
      "execution_count": 2,
      "outputs": [
        {
          "output_type": "stream",
          "name": "stdout",
          "text": [
            "Requirement already satisfied: flask in /usr/local/lib/python3.11/dist-packages (3.1.0)\n",
            "Requirement already satisfied: Werkzeug>=3.1 in /usr/local/lib/python3.11/dist-packages (from flask) (3.1.3)\n",
            "Requirement already satisfied: Jinja2>=3.1.2 in /usr/local/lib/python3.11/dist-packages (from flask) (3.1.6)\n",
            "Requirement already satisfied: itsdangerous>=2.2 in /usr/local/lib/python3.11/dist-packages (from flask) (2.2.0)\n",
            "Requirement already satisfied: click>=8.1.3 in /usr/local/lib/python3.11/dist-packages (from flask) (8.1.8)\n",
            "Requirement already satisfied: blinker>=1.9 in /usr/local/lib/python3.11/dist-packages (from flask) (1.9.0)\n",
            "Requirement already satisfied: MarkupSafe>=2.0 in /usr/local/lib/python3.11/dist-packages (from Jinja2>=3.1.2->flask) (3.0.2)\n"
          ]
        }
      ]
    },
    {
      "cell_type": "code",
      "source": [
        "# 1. How do you create a basic Flask application ?\n",
        "from flask import Flask\n",
        "\n",
        "# Create a Flask application instance\n",
        "app = Flask(__name__)\n",
        "\n",
        "# Define a route for the home page\n",
        "@app.route('/')\n",
        "def home():\n",
        "    return \"Hello, World!\"\n",
        "\n",
        "# Run the application\n",
        "if __name__ == '__main__':\n",
        "    app.run(debug=True)\n"
      ],
      "metadata": {
        "colab": {
          "base_uri": "https://localhost:8080/"
        },
        "id": "HQDfuldAlAxR",
        "outputId": "85271147-b176-4ee5-883d-05e6c0df06fb"
      },
      "execution_count": null,
      "outputs": [
        {
          "output_type": "stream",
          "name": "stdout",
          "text": [
            " * Serving Flask app '__main__'\n",
            " * Debug mode: on\n"
          ]
        },
        {
          "output_type": "stream",
          "name": "stderr",
          "text": [
            "INFO:werkzeug:\u001b[31m\u001b[1mWARNING: This is a development server. Do not use it in a production deployment. Use a production WSGI server instead.\u001b[0m\n",
            " * Running on http://127.0.0.1:5000\n",
            "INFO:werkzeug:\u001b[33mPress CTRL+C to quit\u001b[0m\n",
            "INFO:werkzeug: * Restarting with stat\n"
          ]
        }
      ]
    },
    {
      "cell_type": "code",
      "source": [
        "# 2. How do you serve static files like images or CSS in Flask ?\n",
        "from flask import Flask, render_template\n",
        "\n",
        "app = Flask(__name__)\n",
        "\n",
        "@app.route('/')\n",
        "def home():\n",
        "    return render_template('index.html')\n",
        "\n",
        "if __name__ == '__main__':\n",
        "    app.run(debug=True)\n"
      ],
      "metadata": {
        "id": "89sH-SH1lLhc"
      },
      "execution_count": null,
      "outputs": []
    },
    {
      "cell_type": "code",
      "source": [
        "# 3. How do you define different routes with different HTTP methods in Flask\n",
        "from flask import Flask, request, jsonify\n",
        "\n",
        "app = Flask(__name__)\n",
        "\n",
        "# Handle GET request\n",
        "@app.route('/item', methods=['GET'])\n",
        "def get_item():\n",
        "    return jsonify({\"message\": \"GET request to /item route\"})\n",
        "\n",
        "# Handle POST request\n",
        "@app.route('/item', methods=['POST'])\n",
        "def create_item():\n",
        "    data = request.get_json()  # Get data sent in the body of the request (JSON format)\n",
        "    return jsonify({\"message\": \"POST request to /item\", \"data\": data}), 201\n",
        "\n",
        "# Handle PUT request\n",
        "@app.route('/item', methods=['PUT'])\n",
        "def update_item():\n",
        "    data = request.get_json()  # Get data sent in the body of the request\n",
        "    return jsonify({\"message\": \"PUT request to /item\", \"data\": data})\n",
        "\n",
        "# Handle DELETE request\n",
        "@app.route('/item', methods=['DELETE'])\n",
        "def delete_item():\n",
        "    return jsonify({\"message\": \"DELETE request to /item route\"}), 200\n",
        "\n",
        "if __name__ == '__main__':\n",
        "    app.run(debug=True)\n"
      ],
      "metadata": {
        "id": "8QcTYnWul3dJ"
      },
      "execution_count": null,
      "outputs": []
    },
    {
      "cell_type": "code",
      "source": [
        "# 4. How do you render HTML templates in Flask ?\n",
        "<!DOCTYPE html>\n",
        "<html lang=\"en\">\n",
        "<head>\n",
        "    <meta charset=\"UTF-8\">\n",
        "    <meta name=\"viewport\" content=\"width=device-width, initial-scale=1.0\">\n",
        "    <title>{{ title }}</title> <!-- Rendering a dynamic title -->\n",
        "    <link rel=\"stylesheet\" href=\"{{ url_for('static', filename='css/style.css') }}\">\n",
        "</head>\n",
        "<body>\n",
        "    <h1>{{ message }}</h1> <!-- Rendering a dynamic message -->\n",
        "    <p>Welcome to the Flask app!</p>\n",
        "</body>\n",
        "</html>\n",
        "\n",
        "from flask import Flask, render_template\n",
        "\n",
        "app = Flask(__name__)\n",
        "\n",
        "@app.route('/')\n",
        "def home():\n",
        "    # Pass dynamic values to the template\n",
        "    title = \"My Flask App\"\n",
        "    message = \"Hello, Flask!\"\n",
        "    return render_template('index.html', title=title, message=message)\n",
        "\n",
        "if __name__ == '__main__':\n",
        "    app.run(debug=True)\n"
      ],
      "metadata": {
        "id": "0-ngbobBl3lI"
      },
      "execution_count": null,
      "outputs": []
    },
    {
      "cell_type": "code",
      "source": [
        "# 5. How can you generate URLs for routes in Flask using url_for ?\n",
        "from flask import Flask, render_template, url_for\n",
        "\n",
        "app = Flask(__name__)\n",
        "\n",
        "@app.route('/')\n",
        "def home():\n",
        "    return render_template('index.html')\n",
        "\n",
        "@app.route('/user/<int:id>')\n",
        "def user_profile(id):\n",
        "    # Return a user profile page for a given user ID\n",
        "    return f\"User profile for user with ID: {id}\"\n",
        "\n",
        "if __name__ == '__main__':\n",
        "    app.run(debug=True)\n",
        "\n",
        "\n"
      ],
      "metadata": {
        "id": "55-naJp2l3oP"
      },
      "execution_count": null,
      "outputs": []
    },
    {
      "cell_type": "code",
      "source": [
        "# 6.  How do you handle forms in Flask ?\n",
        "<!DOCTYPE html>\n",
        "<html lang=\"en\">\n",
        "<head>\n",
        "    <meta charset=\"UTF-8\">\n",
        "    <meta name=\"viewport\" content=\"width=device-width, initial-scale=1.0\">\n",
        "    <title>Flask Form Example</title>\n",
        "</head>\n",
        "<body>\n",
        "    <h1>Contact Us</h1>\n",
        "    <form method=\"POST\">\n",
        "        <!-- CSRF token for security (Flask-WTF) -->\n",
        "        <label for=\"name\">Name:</label>\n",
        "        <input type=\"text\" id=\"name\" name=\"name\"><br><br>\n",
        "\n",
        "        <label for=\"email\">Email:</label>\n",
        "        <input type=\"email\" id=\"email\" name=\"email\"><br><br>\n",
        "\n",
        "        <label for=\"message\">Message:</label><br>\n",
        "        <textarea id=\"message\" name=\"message\"></textarea><br><br>\n",
        "\n",
        "        <button type=\"submit\">Submit</button>\n",
        "    </form>\n",
        "</body>\n",
        "</html>\n",
        "from flask import Flask, render_template, request\n",
        "\n",
        "app = Flask(__name__)\n",
        "\n",
        "@app.route('/contact', methods=['GET', 'POST'])\n",
        "def contact():\n",
        "    if request.method == 'POST':\n",
        "        # Get data from form\n",
        "        name = request.form['name']\n",
        "        email = request.form['email']\n",
        "        message = request.form['message']\n",
        "\n",
        "        # Process the data (e.g., send an email, save to a database, etc.)\n",
        "        # For this example, we'll just display the submitted data\n",
        "        return f\"Thank you {name}, we received your message: '{message}' sent from {email}.\"\n",
        "\n",
        "    # Render the form when the request is GET\n",
        "    return render_template('form.html')\n",
        "\n",
        "if __name__ == '__main__':\n",
        "    app.run(debug=True)\n"
      ],
      "metadata": {
        "id": "yQZXdoJPnA8Z"
      },
      "execution_count": null,
      "outputs": []
    },
    {
      "cell_type": "code",
      "source": [
        "# 7. How can you validate form data in Flask ?\n",
        "from flask import Flask, render_template, request\n",
        "\n",
        "app = Flask(__name__)\n",
        "\n",
        "@app.route('/contact', methods=['GET', 'POST'])\n",
        "def contact():\n",
        "    error = None\n",
        "    if request.method == 'POST':\n",
        "        # Retrieving form data\n",
        "        name = request.form['name']\n",
        "        email = request.form['email']\n",
        "        message = request.form['message']\n",
        "\n",
        "        # Manually validating the form data\n",
        "        if not name or not email or not message:\n",
        "            error = \"All fields are required.\"\n",
        "        elif '@' not in email:\n",
        "            error = \"Please provide a valid email address.\"\n",
        "        else:\n",
        "            # Process the valid data\n",
        "            return f\"Thank you {name}, we received your message: '{message}' sent from {email}.\"\n",
        "\n",
        "    return render_template('form.html', error=error)\n",
        "\n",
        "if __name__ == '__main__':\n",
        "    app.run(debug=True)\n"
      ],
      "metadata": {
        "id": "KiXk5k9Pl3rg"
      },
      "execution_count": null,
      "outputs": []
    },
    {
      "cell_type": "code",
      "source": [
        "# 8. How do you manage sessions in Flask ?\n",
        "from flask import Flask, session, redirect, url_for, request\n",
        "\n",
        "app = Flask(__name__)\n",
        "app.secret_key = 'your_secret_key_here'\n",
        "\n",
        "@app.route('/')\n",
        "def index():\n",
        "    # Store data in the session\n",
        "    session['username'] = 'john_doe'\n",
        "    return 'Session data stored!'\n",
        "\n",
        "@app.route('/show_session')\n",
        "def show_session():\n",
        "    # Access session data\n",
        "    if 'username' in session:\n",
        "        return f'Hello, {session[\"username\"]}!'\n",
        "    return 'No session data found'\n",
        "\n",
        "if __name__ == '__main__':\n",
        "    app.run(debug=True)\n",
        "\n"
      ],
      "metadata": {
        "id": "hZyFC_tMl3uf"
      },
      "execution_count": null,
      "outputs": []
    },
    {
      "cell_type": "code",
      "source": [
        "# 9. How do you redirect to a different route in Flask ?\n",
        "from flask import Flask, redirect, url_for, render_template, request\n",
        "\n",
        "app = Flask(__name__)\n",
        "\n",
        "# Home page route\n",
        "@app.route('/')\n",
        "def home():\n",
        "    return render_template('home.html')\n",
        "\n",
        "# About page route (where user is redirected)\n",
        "@app.route('/about')\n",
        "def about():\n",
        "    return 'This is the About page.'\n",
        "\n",
        "# Form submission route\n",
        "@app.route('/submit_form', methods=['POST'])\n",
        "def submit_form():\n",
        "    # Assuming some logic, form processing, etc.\n",
        "    # Redirect to the 'about' page after form submission\n",
        "    return redirect(url_for('about'))  # Redirects to the 'about' route\n",
        "\n",
        "if __name__ == '__main__':\n",
        "    app.run(debug=True)\n"
      ],
      "metadata": {
        "id": "E6YNGo5pl3xR"
      },
      "execution_count": null,
      "outputs": []
    },
    {
      "cell_type": "code",
      "source": [
        "# 10 How do you handle errors in Flask (e.g., 404)\n",
        "from flask import Flask, render_template\n",
        "\n",
        "app = Flask(__name__)\n",
        "\n",
        "@app.route('/')\n",
        "def home():\n",
        "    return 'Welcome to the home page!'\n",
        "\n",
        "# Custom error handler for 404 errors (page not found)\n",
        "@app.errorhandler(404)\n",
        "def page_not_found(error):\n",
        "    return render_template('404.html'), 404  # Render a custom 404 page\n",
        "\n",
        "if __name__ == '__main__':\n",
        "    app.run(debug=True)\n"
      ],
      "metadata": {
        "id": "1FAFJYGqn5Oh"
      },
      "execution_count": null,
      "outputs": []
    },
    {
      "cell_type": "code",
      "source": [
        "# 11. How do you structure a Flask app using Blueprints ?\n",
        "my_flask_app/\n",
        "│\n",
        "├── app/\n",
        "│   ├── __init__.py              # Initializes the app and registers blueprints\n",
        "│   ├── routes/\n",
        "│   │   ├── __init__.py          # Initializes the routes blueprint\n",
        "│   │   ├── home.py              # Home route (views related to the home page)\n",
        "│   │   └── auth.py              # Authentication-related routes\n",
        "│   ├── models/                  # Models (if using a database)\n",
        "│   │   └── user.py              # Example model (User)\n",
        "│   ├── templates/               # Templates for rendering HTML\n",
        "│   │   ├── home.html            # Template for the home page\n",
        "│   │   └── login.html           # Template for the login page\n",
        "│   ├── static/                  # Static files (CSS, JS, Images)\n",
        "│   │   ├── style.css\n",
        "│   │   └── script.js\n",
        "│   └── config.py                # Configurations for the Flask app\n",
        "│\n",
        "├── run.py                       # Entry point to run the app\n",
        "└── requirements.txt             # Required dependencies\n",
        "from flask import Blueprint, render_template, request, redirect, url_for\n",
        "\n",
        "auth_bp = Blueprint('auth', __name__, template_folder='templates', static_folder='static')\n",
        "\n",
        "@auth_bp.route('/login', methods=['GET', 'POST'])\n",
        "def login():\n",
        "    if request.method == 'POST':\n",
        "        # Handle form submission (e.g., authenticate user)\n",
        "        return redirect(url_for('home.home'))  # Redirect to home page after login\n",
        "    return render_template('login.html')\n"
      ],
      "metadata": {
        "id": "vxZhJKkCn5T5"
      },
      "execution_count": null,
      "outputs": []
    },
    {
      "cell_type": "code",
      "source": [
        "# 12. How do you define a custom Jinja filter in Flask ?\n",
        "# app.py (or your main application file)\n",
        "\n",
        "from flask import Flask\n",
        "\n",
        "app = Flask(__name__)\n",
        "\n",
        "# Define a custom Jinja filter function\n",
        "def uppercase_filter(value):\n",
        "    if isinstance(value, str):\n",
        "        return value.upper()\n",
        "    return value  # Return the value unchanged if it's not a string\n",
        "\n",
        "# Register the filter with Flask\n",
        "app.add_template_filter(uppercase_filter, 'uppercase')\n",
        "\n",
        "@app.route('/')\n",
        "def home():\n",
        "    return \"Welcome to the home page!\"\n",
        "\n",
        "if __name__ == '__main__':\n",
        "    app.run(debug=True)\n"
      ],
      "metadata": {
        "id": "T0zsqgMsn5XC"
      },
      "execution_count": null,
      "outputs": []
    },
    {
      "cell_type": "code",
      "source": [
        "# 13. How can you redirect with query parameters in Flask ?\n",
        "from flask import Flask, redirect, url_for, request\n",
        "\n",
        "app = Flask(__name__)\n",
        "\n",
        "# Home page route\n",
        "@app.route('/')\n",
        "def home():\n",
        "    return 'Welcome to the home page!'\n",
        "\n",
        "# Route to handle the redirect\n",
        "@app.route('/redirect_to_home')\n",
        "def redirect_to_home():\n",
        "    # Extract query parameters from the request, if any\n",
        "    param = request.args.get('param', 'default_value')\n",
        "\n",
        "    # Generate the URL with query parameters using url_for\n",
        "    target_url = url_for('home') + f'?param={param}'\n",
        "\n",
        "    # Redirect to the target URL with query parameters\n",
        "    return redirect(target_url)\n",
        "\n",
        "if __name__ == '__main__':\n",
        "    app.run(debug=True)\n"
      ],
      "metadata": {
        "id": "dlqQTnxin5aJ"
      },
      "execution_count": null,
      "outputs": []
    },
    {
      "cell_type": "code",
      "source": [
        "# 14. How do you return JSON responses in Flask ?\n",
        "from flask import Flask, jsonify\n",
        "\n",
        "app = Flask(__name__)\n",
        "\n",
        "@app.route('/json')\n",
        "def json_response():\n",
        "    data = {'name': 'John', 'age': 30, 'city': 'New York'}\n",
        "    return jsonify(data)\n",
        "\n",
        "if __name__ == '__main__':\n",
        "    app.run(debug=True)\n"
      ],
      "metadata": {
        "id": "1ZUg0ZSOn6pA"
      },
      "execution_count": null,
      "outputs": []
    },
    {
      "cell_type": "code",
      "source": [
        "# 15.  How do you capture URL parameters in Flask ?\n",
        "from flask import Flask\n",
        "\n",
        "app = Flask(__name__)\n",
        "\n",
        "@app.route('/user/<username>')\n",
        "def show_user_profile(username):\n",
        "    return f'User: {username}'\n",
        "\n",
        "if __name__ == '__main__':\n",
        "    app.run(debug=True)\n"
      ],
      "metadata": {
        "id": "W0ZjI41nn6uh"
      },
      "execution_count": null,
      "outputs": []
    }
  ]
}